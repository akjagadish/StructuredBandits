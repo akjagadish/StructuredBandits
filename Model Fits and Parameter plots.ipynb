{
 "cells": [
  {
   "cell_type": "markdown",
   "metadata": {},
   "source": []
  },
  {
   "cell_type": "markdown",
   "metadata": {},
   "source": [
    "Note: All of the model fits presented here have been pre-run using the script `choice_models.py`. This can take a lot of time to run."
   ]
  },
  {
   "cell_type": "code",
   "execution_count": 1,
   "metadata": {},
   "outputs": [],
   "source": [
    "%matplotlib inline\n",
    "import numpy as np\n",
    "import pandas as pd\n",
    "import seaborn as sns\n",
    "import matplotlib.pyplot as plt\n",
    "sns.set_context('paper')\n",
    "\n",
    "fig_size = (5.0, 2.5)"
   ]
  },
  {
   "cell_type": "markdown",
   "metadata": {},
   "source": [
    "# Experiment 1"
   ]
  },
  {
   "cell_type": "code",
   "execution_count": 2,
   "metadata": {},
   "outputs": [
    {
     "name": "stdout",
     "output_type": "stream",
     "text": [
      "Chance: 132252.482051\n"
     ]
    },
    {
     "data": {
      "text/html": [
       "<div>\n",
       "<style scoped>\n",
       "    .dataframe tbody tr th:only-of-type {\n",
       "        vertical-align: middle;\n",
       "    }\n",
       "\n",
       "    .dataframe tbody tr th {\n",
       "        vertical-align: top;\n",
       "    }\n",
       "\n",
       "    .dataframe thead th {\n",
       "        text-align: right;\n",
       "    }\n",
       "</style>\n",
       "<table border=\"1\" class=\"dataframe\">\n",
       "  <thead>\n",
       "    <tr style=\"text-align: right;\">\n",
       "      <th></th>\n",
       "      <th>LOO</th>\n",
       "      <th>dLOO</th>\n",
       "      <th>LOO_se</th>\n",
       "    </tr>\n",
       "  </thead>\n",
       "  <tbody>\n",
       "    <tr>\n",
       "      <th>Scrambled</th>\n",
       "      <td>74097.900166</td>\n",
       "      <td>22674.355099</td>\n",
       "      <td>457.744119</td>\n",
       "    </tr>\n",
       "    <tr>\n",
       "      <th>Kalman</th>\n",
       "      <td>73070.862118</td>\n",
       "      <td>21647.317050</td>\n",
       "      <td>455.144350</td>\n",
       "    </tr>\n",
       "    <tr>\n",
       "      <th>Lin-Reg</th>\n",
       "      <td>71422.248629</td>\n",
       "      <td>19998.703562</td>\n",
       "      <td>452.491382</td>\n",
       "    </tr>\n",
       "    <tr>\n",
       "      <th>Bayesian-GP</th>\n",
       "      <td>58137.534089</td>\n",
       "      <td>6713.989021</td>\n",
       "      <td>438.439840</td>\n",
       "    </tr>\n",
       "    <tr>\n",
       "      <th>GP-RBF</th>\n",
       "      <td>55814.695037</td>\n",
       "      <td>4391.149970</td>\n",
       "      <td>434.124566</td>\n",
       "    </tr>\n",
       "    <tr>\n",
       "      <th>GP-RBF/Kalman</th>\n",
       "      <td>55613.633395</td>\n",
       "      <td>4190.088328</td>\n",
       "      <td>432.307277</td>\n",
       "    </tr>\n",
       "    <tr>\n",
       "      <th>Clustering</th>\n",
       "      <td>54121.496627</td>\n",
       "      <td>2697.951559</td>\n",
       "      <td>424.809565</td>\n",
       "    </tr>\n",
       "    <tr>\n",
       "      <th>Linear/Clustering</th>\n",
       "      <td>53652.000256</td>\n",
       "      <td>2228.455189</td>\n",
       "      <td>422.527828</td>\n",
       "    </tr>\n",
       "    <tr>\n",
       "      <th>GP-RBF/Clustering</th>\n",
       "      <td>51423.545067</td>\n",
       "      <td>0.000000</td>\n",
       "      <td>424.499452</td>\n",
       "    </tr>\n",
       "  </tbody>\n",
       "</table>\n",
       "</div>"
      ],
      "text/plain": [
       "                            LOO          dLOO      LOO_se\n",
       "Scrambled          74097.900166  22674.355099  457.744119\n",
       "Kalman             73070.862118  21647.317050  455.144350\n",
       "Lin-Reg            71422.248629  19998.703562  452.491382\n",
       "Bayesian-GP        58137.534089   6713.989021  438.439840\n",
       "GP-RBF             55814.695037   4391.149970  434.124566\n",
       "GP-RBF/Kalman      55613.633395   4190.088328  432.307277\n",
       "Clustering         54121.496627   2697.951559  424.809565\n",
       "Linear/Clustering  53652.000256   2228.455189  422.527828\n",
       "GP-RBF/Clustering  51423.545067      0.000000  424.499452"
      ]
     },
     "execution_count": 2,
     "metadata": {},
     "output_type": "execute_result"
    }
   ],
   "source": [
    "loo = pd.read_pickle('Data/model_fits/model_fits_exp_lin.pkl')\n",
    "summary = pd.read_pickle('Data/model_fits/model_params_exp_lin_rbf_cls.pkl')\n",
    "\n",
    "# calculate chance\n",
    "n = len(pd.read_csv('Data/exp_linear/rbfpred.csv')) # n_subj * n_trails_per_subj\n",
    "n_arms = 8\n",
    "chance_loo = -2 * n * np.log(1. / n_arms)\n",
    "\n",
    "print \"Chance: {}\".format(chance_loo)\n",
    "\n",
    "loo.sort_values('LOO', ascending=False, inplace=True)\n",
    "loo['dLOO'] = loo.LOO - np.min(loo.LOO)\n",
    "loo['LOO dLOO LOO_se'.split()]"
   ]
  },
  {
   "cell_type": "code",
   "execution_count": 3,
   "metadata": {},
   "outputs": [
    {
     "data": {
      "image/png": "[encoded data removed]",
      "text/plain": [
       "<Figure size 360x180 with 2 Axes>"
      ]
     },
     "metadata": {},
     "output_type": "display_data"
    }
   ],
   "source": [
    "def plot_results(loo, summary, chance_loo, vars_=None, labels=None):\n",
    "    _loo = loo.sort_values('LOO')\n",
    "    fig, axes = plt.subplots(1, 2, figsize=fig_size, gridspec_kw=dict(wspace=0.5))\n",
    "    ax = axes[0]\n",
    "    min_loo = np.min(_loo.LOO - chance_loo)\n",
    "    with sns.axes_style('ticks'):\n",
    "        plt.sca(ax)\n",
    "        ax.barh(range(len(_loo.LOO.values)), \n",
    "                 _loo.LOO.values - chance_loo, color='grey', align='center')\n",
    "        ax.set_yticks(range(len(_loo.LOO.values)))\n",
    "        ax.set_yticklabels(_loo.index.tolist())\n",
    "        ax.errorbar(y = range(len(_loo.LOO.values)), \n",
    "                    x = _loo.LOO.values - chance_loo,\n",
    "                    xerr = _loo.LOO_se.values, linestyle='None',\n",
    "                    color='k',\n",
    "                   )\n",
    "        xlb, xub = plt.gca().get_xlim()\n",
    "        ylb, yub = plt.gca().get_ylim()\n",
    "\n",
    "        ax.plot([min_loo, min_loo],[ylb, yub], 'r:')\n",
    "        ax.set_xlim([xub, xlb])\n",
    "        sns.despine()\n",
    "\n",
    "\n",
    "        ax.set_xlabel('LOO')\n",
    "        plt.xticks(rotation=45)\n",
    "\n",
    "        #### second plot\n",
    "        ax = axes[1]\n",
    "        plt.sca(ax)\n",
    "\n",
    "        \n",
    "        if vars_ is None:\n",
    "            vars_  = ['mu_beta_rbf_mean', 'mu_beta_cls_mean', \n",
    "                      'mu_beta_rbf_stdv', 'mu_beta_cls_stdv',]\n",
    "        if labels is None:\n",
    "            labels = ['RBF Mean', 'Cls Mean', 'RBF Std', 'Cls Std']\n",
    "\n",
    "        y = summary.loc[vars_, 'mean'].values\n",
    "        plt.bar(range(4), y, color='skyblue')\n",
    "\n",
    "        for ii, b in enumerate(vars_):\n",
    "            ylb = summary.loc[b, 'hpd_2.5']\n",
    "            yub = summary.loc[b, 'hpd_97.5']\n",
    "            ax.plot([ii,ii], [ylb, yub], 'k', linewidth=2)\n",
    "        plt.xticks(range(len(y)))\n",
    "        ax.set_xticklabels(labels)\n",
    "\n",
    "        ax.axhline(y=0, color='k', linewidth=1)\n",
    "\n",
    "        plt.ylabel('Parameter Estimate')\n",
    "        plt.xticks(rotation=90)\n",
    "        ax.xaxis.label.set_visible(False)\n",
    "        return fig\n",
    "\n",
    "_ = plot_results(loo, summary, chance_loo)\n",
    "plt.savefig('fig_model_fits_exp_linear.pdf', dpi=300, bbox_inches='tight')"
   ]
  },
  {
   "cell_type": "markdown",
   "metadata": {},
   "source": [
    "# Experiment Change Point"
   ]
  },
  {
   "cell_type": "code",
   "execution_count": 4,
   "metadata": {},
   "outputs": [
    {
     "name": "stdout",
     "output_type": "stream",
     "text": [
      "Chance: 163444.105176\n"
     ]
    },
    {
     "data": {
      "text/html": [
       "<div>\n",
       "<style scoped>\n",
       "    .dataframe tbody tr th:only-of-type {\n",
       "        vertical-align: middle;\n",
       "    }\n",
       "\n",
       "    .dataframe tbody tr th {\n",
       "        vertical-align: top;\n",
       "    }\n",
       "\n",
       "    .dataframe thead th {\n",
       "        text-align: right;\n",
       "    }\n",
       "</style>\n",
       "<table border=\"1\" class=\"dataframe\">\n",
       "  <thead>\n",
       "    <tr style=\"text-align: right;\">\n",
       "      <th></th>\n",
       "      <th>LOO</th>\n",
       "      <th>dLOO</th>\n",
       "      <th>LOO_se</th>\n",
       "    </tr>\n",
       "  </thead>\n",
       "  <tbody>\n",
       "    <tr>\n",
       "      <th>Scrambled</th>\n",
       "      <td>102241.876612</td>\n",
       "      <td>20917.882435</td>\n",
       "      <td>486.425350</td>\n",
       "    </tr>\n",
       "    <tr>\n",
       "      <th>Kalman</th>\n",
       "      <td>101571.005037</td>\n",
       "      <td>20247.010860</td>\n",
       "      <td>485.162116</td>\n",
       "    </tr>\n",
       "    <tr>\n",
       "      <th>GP-RBF</th>\n",
       "      <td>101424.585978</td>\n",
       "      <td>20100.591801</td>\n",
       "      <td>484.520596</td>\n",
       "    </tr>\n",
       "    <tr>\n",
       "      <th>Lin-Reg</th>\n",
       "      <td>101423.755973</td>\n",
       "      <td>20099.761796</td>\n",
       "      <td>484.530571</td>\n",
       "    </tr>\n",
       "    <tr>\n",
       "      <th>GP-RBF/Kalman</th>\n",
       "      <td>100581.900897</td>\n",
       "      <td>19257.906720</td>\n",
       "      <td>483.289126</td>\n",
       "    </tr>\n",
       "    <tr>\n",
       "      <th>Bayesian-GP</th>\n",
       "      <td>83465.422383</td>\n",
       "      <td>2141.428206</td>\n",
       "      <td>462.760712</td>\n",
       "    </tr>\n",
       "    <tr>\n",
       "      <th>Clustering</th>\n",
       "      <td>81776.347222</td>\n",
       "      <td>452.353045</td>\n",
       "      <td>481.782409</td>\n",
       "    </tr>\n",
       "    <tr>\n",
       "      <th>GP-RBF/Clustering</th>\n",
       "      <td>81325.406960</td>\n",
       "      <td>1.412783</td>\n",
       "      <td>479.877466</td>\n",
       "    </tr>\n",
       "    <tr>\n",
       "      <th>Linear/Clustering</th>\n",
       "      <td>81323.994177</td>\n",
       "      <td>0.000000</td>\n",
       "      <td>479.876519</td>\n",
       "    </tr>\n",
       "  </tbody>\n",
       "</table>\n",
       "</div>"
      ],
      "text/plain": [
       "                             LOO          dLOO      LOO_se\n",
       "Scrambled          102241.876612  20917.882435  486.425350\n",
       "Kalman             101571.005037  20247.010860  485.162116\n",
       "GP-RBF             101424.585978  20100.591801  484.520596\n",
       "Lin-Reg            101423.755973  20099.761796  484.530571\n",
       "GP-RBF/Kalman      100581.900897  19257.906720  483.289126\n",
       "Bayesian-GP         83465.422383   2141.428206  462.760712\n",
       "Clustering          81776.347222    452.353045  481.782409\n",
       "GP-RBF/Clustering   81325.406960      1.412783  479.877466\n",
       "Linear/Clustering   81323.994177      0.000000  479.876519"
      ]
     },
     "execution_count": 4,
     "metadata": {},
     "output_type": "execute_result"
    }
   ],
   "source": [
    "loo = pd.read_pickle('Data/model_fits/model_fits_exp_cp.pkl')\n",
    "# summary = pd.read_pickle('Data/model_fits/model_params_exp_cp_rbf_cls.pkl')\n",
    "summary = pd.read_pickle('Data/model_fits/model_params_exp_cp_lin_cls.pkl')\n",
    "\n",
    "vars_  = ['mu_beta_lin_mean', 'mu_beta_cls_mean', \n",
    "          'mu_beta_lin_stdv', 'mu_beta_cls_stdv',]\n",
    "labels = ['Lin Mean', 'Cls Mean', 'Lin Std', 'Cls Std']\n",
    "            \n",
    "# calculate chance\n",
    "n = len(pd.read_csv('Data/exp_changepoint/changerbfpred.csv')) # n_subj * n_trails_per_subj\n",
    "n_arms = 8\n",
    "chance_loo = -2 * n * np.log(1. / n_arms)\n",
    "\n",
    "print \"Chance: {}\".format(chance_loo)\n",
    "\n",
    "loo.sort_values('LOO', ascending=False, inplace=True)\n",
    "loo['dLOO'] = loo.LOO - np.min(loo.LOO)\n",
    "loo['LOO dLOO LOO_se'.split()]"
   ]
  },
  {
   "cell_type": "code",
   "execution_count": 5,
   "metadata": {},
   "outputs": [],
   "source": [
    "# note, GP-RBF/Clustering and Linear clustering are indistinguishable for this model"
   ]
  },
  {
   "cell_type": "code",
   "execution_count": 6,
   "metadata": {},
   "outputs": [
    {
     "data": {
      "image/png": "[encoded data removed]",
      "text/plain": [
       "<Figure size 360x180 with 2 Axes>"
      ]
     },
     "metadata": {},
     "output_type": "display_data"
    }
   ],
   "source": [
    "_ = plot_results(loo, summary, chance_loo, vars_, labels)\n",
    "plt.savefig('fig_model_fits_exp_cp.pdf', dpi=300, bbox_inches='tight')"
   ]
  },
  {
   "cell_type": "markdown",
   "metadata": {},
   "source": [
    "# Experiment Scrambled"
   ]
  },
  {
   "cell_type": "code",
   "execution_count": 7,
   "metadata": {},
   "outputs": [
    {
     "name": "stdout",
     "output_type": "stream",
     "text": [
      "Chance: 102308.523851\n"
     ]
    },
    {
     "data": {
      "text/html": [
       "<div>\n",
       "<style scoped>\n",
       "    .dataframe tbody tr th:only-of-type {\n",
       "        vertical-align: middle;\n",
       "    }\n",
       "\n",
       "    .dataframe tbody tr th {\n",
       "        vertical-align: top;\n",
       "    }\n",
       "\n",
       "    .dataframe thead th {\n",
       "        text-align: right;\n",
       "    }\n",
       "</style>\n",
       "<table border=\"1\" class=\"dataframe\">\n",
       "  <thead>\n",
       "    <tr style=\"text-align: right;\">\n",
       "      <th></th>\n",
       "      <th>LOO</th>\n",
       "      <th>dLOO</th>\n",
       "      <th>LOO_se</th>\n",
       "    </tr>\n",
       "  </thead>\n",
       "  <tbody>\n",
       "    <tr>\n",
       "      <th>Scrambled</th>\n",
       "      <td>61617.446734</td>\n",
       "      <td>17759.270790</td>\n",
       "      <td>392.639567</td>\n",
       "    </tr>\n",
       "    <tr>\n",
       "      <th>Kalman</th>\n",
       "      <td>60174.454764</td>\n",
       "      <td>16316.278820</td>\n",
       "      <td>393.411964</td>\n",
       "    </tr>\n",
       "    <tr>\n",
       "      <th>Lin-Reg</th>\n",
       "      <td>59843.580073</td>\n",
       "      <td>15985.404129</td>\n",
       "      <td>389.632792</td>\n",
       "    </tr>\n",
       "    <tr>\n",
       "      <th>GP-RBF</th>\n",
       "      <td>47515.709879</td>\n",
       "      <td>3657.533935</td>\n",
       "      <td>384.791200</td>\n",
       "    </tr>\n",
       "    <tr>\n",
       "      <th>Bayesian-GP</th>\n",
       "      <td>47438.683217</td>\n",
       "      <td>3580.507273</td>\n",
       "      <td>383.125824</td>\n",
       "    </tr>\n",
       "    <tr>\n",
       "      <th>GP-RBF/Kalman</th>\n",
       "      <td>47145.659696</td>\n",
       "      <td>3287.483752</td>\n",
       "      <td>383.491716</td>\n",
       "    </tr>\n",
       "    <tr>\n",
       "      <th>Clustering</th>\n",
       "      <td>45595.940702</td>\n",
       "      <td>1737.764758</td>\n",
       "      <td>378.727403</td>\n",
       "    </tr>\n",
       "    <tr>\n",
       "      <th>Linear/Clustering</th>\n",
       "      <td>45248.992712</td>\n",
       "      <td>1390.816768</td>\n",
       "      <td>377.569572</td>\n",
       "    </tr>\n",
       "    <tr>\n",
       "      <th>GP-RBF/Clustering</th>\n",
       "      <td>43858.175944</td>\n",
       "      <td>0.000000</td>\n",
       "      <td>377.763555</td>\n",
       "    </tr>\n",
       "  </tbody>\n",
       "</table>\n",
       "</div>"
      ],
      "text/plain": [
       "                            LOO          dLOO      LOO_se\n",
       "Scrambled          61617.446734  17759.270790  392.639567\n",
       "Kalman             60174.454764  16316.278820  393.411964\n",
       "Lin-Reg            59843.580073  15985.404129  389.632792\n",
       "GP-RBF             47515.709879   3657.533935  384.791200\n",
       "Bayesian-GP        47438.683217   3580.507273  383.125824\n",
       "GP-RBF/Kalman      47145.659696   3287.483752  383.491716\n",
       "Clustering         45595.940702   1737.764758  378.727403\n",
       "Linear/Clustering  45248.992712   1390.816768  377.569572\n",
       "GP-RBF/Clustering  43858.175944      0.000000  377.763555"
      ]
     },
     "execution_count": 7,
     "metadata": {},
     "output_type": "execute_result"
    }
   ],
   "source": [
    "loo = pd.read_pickle('Data/model_fits/model_fits_exp_scram.pkl')\n",
    "summary = pd.read_pickle('Data/model_fits/model_params_exp_scram_rbf_cls.pkl')\n",
    "\n",
    "# calculate chance\n",
    "n = len(pd.read_csv('Data/exp_scrambled/gprbfscrambled.csv')) # n_subj * n_trails_per_subj\n",
    "n_arms = 8\n",
    "chance_loo = -2 * n * np.log(1. / n_arms)\n",
    "\n",
    "print \"Chance: {}\".format(chance_loo)\n",
    "\n",
    "loo.sort_values('LOO', ascending=False, inplace=True)\n",
    "loo['dLOO'] = loo.LOO - np.min(loo.LOO)\n",
    "loo['LOO dLOO LOO_se'.split()]"
   ]
  },
  {
   "cell_type": "code",
   "execution_count": 8,
   "metadata": {},
   "outputs": [
    {
     "data": {
      "image/png": "[encoded data removed]",
      "text/plain": [
       "<Figure size 360x180 with 2 Axes>"
      ]
     },
     "metadata": {},
     "output_type": "display_data"
    }
   ],
   "source": [
    "_ = plot_results(loo, summary, chance_loo)\n",
    "plt.savefig('fig_model_fits_exp_scrambled.pdf', dpi=300, bbox_inches='tight')"
   ]
  },
  {
   "cell_type": "markdown",
   "metadata": {},
   "source": [
    "# Experiment Shifted"
   ]
  },
  {
   "cell_type": "code",
   "execution_count": 9,
   "metadata": {},
   "outputs": [
    {
     "name": "stdout",
     "output_type": "stream",
     "text": [
      "Chance: 163444.105176\n"
     ]
    },
    {
     "data": {
      "text/html": [
       "<div>\n",
       "<style scoped>\n",
       "    .dataframe tbody tr th:only-of-type {\n",
       "        vertical-align: middle;\n",
       "    }\n",
       "\n",
       "    .dataframe tbody tr th {\n",
       "        vertical-align: top;\n",
       "    }\n",
       "\n",
       "    .dataframe thead th {\n",
       "        text-align: right;\n",
       "    }\n",
       "</style>\n",
       "<table border=\"1\" class=\"dataframe\">\n",
       "  <thead>\n",
       "    <tr style=\"text-align: right;\">\n",
       "      <th></th>\n",
       "      <th>LOO</th>\n",
       "      <th>dLOO</th>\n",
       "      <th>LOO_se</th>\n",
       "    </tr>\n",
       "  </thead>\n",
       "  <tbody>\n",
       "    <tr>\n",
       "      <th>Scrambled</th>\n",
       "      <td>120707.485074</td>\n",
       "      <td>27157.010463</td>\n",
       "      <td>429.801318</td>\n",
       "    </tr>\n",
       "    <tr>\n",
       "      <th>Kalman</th>\n",
       "      <td>119698.946217</td>\n",
       "      <td>26148.471606</td>\n",
       "      <td>431.983253</td>\n",
       "    </tr>\n",
       "    <tr>\n",
       "      <th>Lin-Reg</th>\n",
       "      <td>115895.964440</td>\n",
       "      <td>22345.489829</td>\n",
       "      <td>444.243539</td>\n",
       "    </tr>\n",
       "    <tr>\n",
       "      <th>Bayesian-GP</th>\n",
       "      <td>109823.165807</td>\n",
       "      <td>16272.691195</td>\n",
       "      <td>457.807441</td>\n",
       "    </tr>\n",
       "    <tr>\n",
       "      <th>Clustering</th>\n",
       "      <td>103176.607294</td>\n",
       "      <td>9626.132682</td>\n",
       "      <td>467.884898</td>\n",
       "    </tr>\n",
       "    <tr>\n",
       "      <th>GP-RBF</th>\n",
       "      <td>101631.696967</td>\n",
       "      <td>8081.222356</td>\n",
       "      <td>471.337316</td>\n",
       "    </tr>\n",
       "    <tr>\n",
       "      <th>GP-RBF/Kalman</th>\n",
       "      <td>101135.820559</td>\n",
       "      <td>7585.345948</td>\n",
       "      <td>470.674219</td>\n",
       "    </tr>\n",
       "    <tr>\n",
       "      <th>Linear/Clustering</th>\n",
       "      <td>100949.175983</td>\n",
       "      <td>7398.701372</td>\n",
       "      <td>468.220908</td>\n",
       "    </tr>\n",
       "    <tr>\n",
       "      <th>GP-RBF/Clustering</th>\n",
       "      <td>93550.474611</td>\n",
       "      <td>0.000000</td>\n",
       "      <td>477.185323</td>\n",
       "    </tr>\n",
       "  </tbody>\n",
       "</table>\n",
       "</div>"
      ],
      "text/plain": [
       "                             LOO          dLOO      LOO_se\n",
       "Scrambled          120707.485074  27157.010463  429.801318\n",
       "Kalman             119698.946217  26148.471606  431.983253\n",
       "Lin-Reg            115895.964440  22345.489829  444.243539\n",
       "Bayesian-GP        109823.165807  16272.691195  457.807441\n",
       "Clustering         103176.607294   9626.132682  467.884898\n",
       "GP-RBF             101631.696967   8081.222356  471.337316\n",
       "GP-RBF/Kalman      101135.820559   7585.345948  470.674219\n",
       "Linear/Clustering  100949.175983   7398.701372  468.220908\n",
       "GP-RBF/Clustering   93550.474611      0.000000  477.185323"
      ]
     },
     "execution_count": 9,
     "metadata": {},
     "output_type": "execute_result"
    }
   ],
   "source": [
    "loo = pd.read_pickle('Data/model_fits/model_fits_exp_shifted.pkl')\n",
    "summary = pd.read_pickle('Data/model_fits/model_params_exp_shifted_rbf_cls.pkl')\n",
    "\n",
    "# calculate chance\n",
    "n = len(pd.read_csv('Data/exp_shifted/gprbfshifted.csv')) # n_subj * n_trails_per_subj\n",
    "n_arms = 8\n",
    "chance_loo = -2 * n * np.log(1. / n_arms)\n",
    "\n",
    "print \"Chance: {}\".format(chance_loo)\n",
    "\n",
    "loo.sort_values('LOO', ascending=False, inplace=True)\n",
    "loo['dLOO'] = loo.LOO - np.min(loo.LOO)\n",
    "loo['LOO dLOO LOO_se'.split()]"
   ]
  },
  {
   "cell_type": "code",
   "execution_count": 10,
   "metadata": {},
   "outputs": [
    {
     "data": {
      "image/png": "[encoded data removed]",
      "text/plain": [
       "<Figure size 360x180 with 2 Axes>"
      ]
     },
     "metadata": {},
     "output_type": "display_data"
    }
   ],
   "source": [
    "_ = plot_results(loo, summary, chance_loo)\n",
    "plt.savefig('fig_model_fits_exp_shifted.pdf', dpi=300, bbox_inches='tight')"
   ]
  },
  {
   "cell_type": "markdown",
   "metadata": {},
   "source": [
    "# Experiment SRS"
   ]
  },
  {
   "cell_type": "code",
   "execution_count": 11,
   "metadata": {},
   "outputs": [
    {
     "name": "stdout",
     "output_type": "stream",
     "text": [
      "Chance: 140986.136526\n"
     ]
    },
    {
     "data": {
      "text/html": [
       "<div>\n",
       "<style scoped>\n",
       "    .dataframe tbody tr th:only-of-type {\n",
       "        vertical-align: middle;\n",
       "    }\n",
       "\n",
       "    .dataframe tbody tr th {\n",
       "        vertical-align: top;\n",
       "    }\n",
       "\n",
       "    .dataframe thead th {\n",
       "        text-align: right;\n",
       "    }\n",
       "</style>\n",
       "<table border=\"1\" class=\"dataframe\">\n",
       "  <thead>\n",
       "    <tr style=\"text-align: right;\">\n",
       "      <th></th>\n",
       "      <th>LOO</th>\n",
       "      <th>dLOO</th>\n",
       "      <th>LOO_se</th>\n",
       "    </tr>\n",
       "  </thead>\n",
       "  <tbody>\n",
       "    <tr>\n",
       "      <th>Scrambled</th>\n",
       "      <td>88242.298341</td>\n",
       "      <td>24651.229997</td>\n",
       "      <td>452.617119</td>\n",
       "    </tr>\n",
       "    <tr>\n",
       "      <th>Lin-Reg</th>\n",
       "      <td>86065.490931</td>\n",
       "      <td>22474.422586</td>\n",
       "      <td>451.208158</td>\n",
       "    </tr>\n",
       "    <tr>\n",
       "      <th>Kalman</th>\n",
       "      <td>85684.405721</td>\n",
       "      <td>22093.337377</td>\n",
       "      <td>454.282833</td>\n",
       "    </tr>\n",
       "    <tr>\n",
       "      <th>Bayesian-GP</th>\n",
       "      <td>69447.723773</td>\n",
       "      <td>5856.655429</td>\n",
       "      <td>450.577691</td>\n",
       "    </tr>\n",
       "    <tr>\n",
       "      <th>GP-RBF</th>\n",
       "      <td>68376.396843</td>\n",
       "      <td>4785.328499</td>\n",
       "      <td>449.838894</td>\n",
       "    </tr>\n",
       "    <tr>\n",
       "      <th>GP-RBF/Kalman</th>\n",
       "      <td>68150.060015</td>\n",
       "      <td>4558.991671</td>\n",
       "      <td>449.727561</td>\n",
       "    </tr>\n",
       "    <tr>\n",
       "      <th>Clustering</th>\n",
       "      <td>66262.397727</td>\n",
       "      <td>2671.329383</td>\n",
       "      <td>444.585014</td>\n",
       "    </tr>\n",
       "    <tr>\n",
       "      <th>Linear/Clustering</th>\n",
       "      <td>65932.360612</td>\n",
       "      <td>2341.292268</td>\n",
       "      <td>443.335323</td>\n",
       "    </tr>\n",
       "    <tr>\n",
       "      <th>GP-RBF/Clustering</th>\n",
       "      <td>63591.068344</td>\n",
       "      <td>0.000000</td>\n",
       "      <td>443.057297</td>\n",
       "    </tr>\n",
       "  </tbody>\n",
       "</table>\n",
       "</div>"
      ],
      "text/plain": [
       "                            LOO          dLOO      LOO_se\n",
       "Scrambled          88242.298341  24651.229997  452.617119\n",
       "Lin-Reg            86065.490931  22474.422586  451.208158\n",
       "Kalman             85684.405721  22093.337377  454.282833\n",
       "Bayesian-GP        69447.723773   5856.655429  450.577691\n",
       "GP-RBF             68376.396843   4785.328499  449.838894\n",
       "GP-RBF/Kalman      68150.060015   4558.991671  449.727561\n",
       "Clustering         66262.397727   2671.329383  444.585014\n",
       "Linear/Clustering  65932.360612   2341.292268  443.335323\n",
       "GP-RBF/Clustering  63591.068344      0.000000  443.057297"
      ]
     },
     "execution_count": 11,
     "metadata": {},
     "output_type": "execute_result"
    }
   ],
   "source": [
    "loo = pd.read_pickle('Data/model_fits/model_fits_exp_srs.pkl')\n",
    "summary = pd.read_pickle('Data/model_fits/model_params_exp_srs_rbf_cls.pkl')\n",
    "\n",
    "# calculate chance\n",
    "n = len(pd.read_csv('Data/exp_srs/gprbfsrs.csv')) # n_subj * n_trails_per_subj\n",
    "n_arms = 8\n",
    "chance_loo = -2 * n * np.log(1. / n_arms)\n",
    "\n",
    "print \"Chance: {}\".format(chance_loo)\n",
    "\n",
    "loo.sort_values('LOO', ascending=False, inplace=True)\n",
    "loo['dLOO'] = loo.LOO - np.min(loo.LOO)\n",
    "loo['LOO dLOO LOO_se'.split()]"
   ]
  },
  {
   "cell_type": "code",
   "execution_count": 12,
   "metadata": {},
   "outputs": [
    {
     "data": {
      "image/png": "[encoded data removed]",
      "text/plain": [
       "<Figure size 360x180 with 2 Axes>"
      ]
     },
     "metadata": {},
     "output_type": "display_data"
    }
   ],
   "source": [
    "_ = plot_results(loo, summary, chance_loo)\n",
    "plt.savefig('fig_model_fits_exp_srs.pdf', dpi=300, bbox_inches='tight')"
   ]
  },
  {
   "cell_type": "code",
   "execution_count": null,
   "metadata": {},
   "outputs": [],
   "source": []
  }
 ],
 "metadata": {
  "kernelspec": {
   "display_name": "Python 2",
   "language": "python",
   "name": "python2"
  },
  "language_info": {
   "codemirror_mode": {
    "name": "ipython",
    "version": 2
   },
   "file_extension": ".py",
   "mimetype": "text/x-python",
   "name": "python",
   "nbconvert_exporter": "python",
   "pygments_lexer": "ipython2",
   "version": "2.7.15"
  }
 },
 "nbformat": 4,
 "nbformat_minor": 2
}
