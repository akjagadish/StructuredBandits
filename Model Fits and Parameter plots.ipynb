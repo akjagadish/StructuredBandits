{
 "cells": [
  {
   "cell_type": "markdown",
   "metadata": {},
   "source": [
    "Note: All of the model fits presented here have been pre-run using the script `fit_choice_models.py`. This can take a lot of time to run."
   ]
  },
  {
   "cell_type": "code",
   "execution_count": 1,
   "metadata": {},
   "outputs": [],
   "source": [
    "%matplotlib inline\n",
    "import numpy as np\n",
    "import pandas as pd\n",
    "import seaborn as sns\n",
    "import matplotlib.pyplot as plt\n",
    "sns.set_context('paper')\n",
    "\n",
    "\n",
    "fig_size = (5.0, 2.5)"
   ]
  },
  {
   "cell_type": "markdown",
   "metadata": {},
   "source": [
    "# Experiment 1"
   ]
  },
  {
   "cell_type": "code",
   "execution_count": 2,
   "metadata": {},
   "outputs": [
    {
     "name": "stdout",
     "output_type": "stream",
     "text": [
      "Chance: 132252.482051\n"
     ]
    },
    {
     "data": {
      "text/html": [
       "<div>\n",
       "<style scoped>\n",
       "    .dataframe tbody tr th:only-of-type {\n",
       "        vertical-align: middle;\n",
       "    }\n",
       "\n",
       "    .dataframe tbody tr th {\n",
       "        vertical-align: top;\n",
       "    }\n",
       "\n",
       "    .dataframe thead th {\n",
       "        text-align: right;\n",
       "    }\n",
       "</style>\n",
       "<table border=\"1\" class=\"dataframe\">\n",
       "  <thead>\n",
       "    <tr style=\"text-align: right;\">\n",
       "      <th></th>\n",
       "      <th>LOO</th>\n",
       "      <th>dLOO</th>\n",
       "      <th>LOO_se</th>\n",
       "    </tr>\n",
       "  </thead>\n",
       "  <tbody>\n",
       "    <tr>\n",
       "      <th>Sticky-Choice</th>\n",
       "      <td>74117.013931</td>\n",
       "      <td>22693.468864</td>\n",
       "      <td>457.742150</td>\n",
       "    </tr>\n",
       "    <tr>\n",
       "      <th>Lin-Reg</th>\n",
       "      <td>71422.248629</td>\n",
       "      <td>19998.703562</td>\n",
       "      <td>452.491382</td>\n",
       "    </tr>\n",
       "    <tr>\n",
       "      <th>Bayesian-GP</th>\n",
       "      <td>58137.534089</td>\n",
       "      <td>6713.989021</td>\n",
       "      <td>438.439840</td>\n",
       "    </tr>\n",
       "    <tr>\n",
       "      <th>GP-RBF</th>\n",
       "      <td>55814.695037</td>\n",
       "      <td>4391.149970</td>\n",
       "      <td>434.124566</td>\n",
       "    </tr>\n",
       "    <tr>\n",
       "      <th>Kalman</th>\n",
       "      <td>54757.107327</td>\n",
       "      <td>3333.562260</td>\n",
       "      <td>429.144697</td>\n",
       "    </tr>\n",
       "    <tr>\n",
       "      <th>Clustering</th>\n",
       "      <td>54121.496627</td>\n",
       "      <td>2697.951559</td>\n",
       "      <td>424.809565</td>\n",
       "    </tr>\n",
       "    <tr>\n",
       "      <th>Linear/Clustering</th>\n",
       "      <td>53652.000256</td>\n",
       "      <td>2228.455189</td>\n",
       "      <td>422.527828</td>\n",
       "    </tr>\n",
       "    <tr>\n",
       "      <th>GP-RBF/Kalman</th>\n",
       "      <td>53632.482207</td>\n",
       "      <td>2208.937139</td>\n",
       "      <td>425.894747</td>\n",
       "    </tr>\n",
       "    <tr>\n",
       "      <th>GP-RBF/Clustering</th>\n",
       "      <td>51423.545067</td>\n",
       "      <td>0.000000</td>\n",
       "      <td>424.499452</td>\n",
       "    </tr>\n",
       "  </tbody>\n",
       "</table>\n",
       "</div>"
      ],
      "text/plain": [
       "                            LOO          dLOO      LOO_se\n",
       "Sticky-Choice      74117.013931  22693.468864  457.742150\n",
       "Lin-Reg            71422.248629  19998.703562  452.491382\n",
       "Bayesian-GP        58137.534089   6713.989021  438.439840\n",
       "GP-RBF             55814.695037   4391.149970  434.124566\n",
       "Kalman             54757.107327   3333.562260  429.144697\n",
       "Clustering         54121.496627   2697.951559  424.809565\n",
       "Linear/Clustering  53652.000256   2228.455189  422.527828\n",
       "GP-RBF/Kalman      53632.482207   2208.937139  425.894747\n",
       "GP-RBF/Clustering  51423.545067      0.000000  424.499452"
      ]
     },
     "execution_count": 2,
     "metadata": {},
     "output_type": "execute_result"
    }
   ],
   "source": [
    "loo = pd.read_pickle('Data/model_fits/model_fits_exp_lin.pkl')\n",
    "summary = pd.read_pickle('Data/model_fits/model_params_exp_lin_rbf_cls.pkl')\n",
    "loo.rename(index={'Kalman w/SC':'Simple Kalman'}, inplace=True)\n",
    "\n",
    "#note the \"Simple Kalman\" is modeled without sticky choice and wasn't included in the paper\n",
    "loo.drop('Simple Kalman', inplace=True)\n",
    "loo.drop('Scrambled', inplace=True)\n",
    "\n",
    "# calculate chance\n",
    "n = len(pd.read_csv('Data/exp_linear/rbfpred.csv')) # n_subj * n_trails_per_subj\n",
    "n_arms = 8\n",
    "chance_loo = -2 * n * np.log(1. / n_arms)\n",
    "\n",
    "print \"Chance: {}\".format(chance_loo)\n",
    "\n",
    "loo.sort_values('LOO', ascending=False, inplace=True)\n",
    "loo['dLOO'] = loo.LOO - np.min(loo.LOO)\n",
    "loo['LOO dLOO LOO_se'.split()]\n"
   ]
  },
  {
   "cell_type": "code",
   "execution_count": 3,
   "metadata": {},
   "outputs": [
    {
     "data": {
      "image/png": "[encoded data removed]",
      "text/plain": [
       "<Figure size 360x180 with 2 Axes>"
      ]
     },
     "metadata": {},
     "output_type": "display_data"
    }
   ],
   "source": [
    "def plot_results(loo, summary, chance_loo, vars_=None, labels=None):\n",
    "    _loo = loo.sort_values('LOO')\n",
    "    _loo[r'pseudo-$r^2$'] = 1 - _loo.LOO / chance_loo\n",
    "    _loo['r2_err'] = _loo.LOO_se / chance_loo\n",
    "    fig, axes = plt.subplots(1, 2, figsize=fig_size, gridspec_kw=dict(wspace=0.5))\n",
    "    ax = axes[0]\n",
    "    min_r2 = np.max(_loo[r'pseudo-$r^2$'])\n",
    "    with sns.axes_style('ticks'):\n",
    "        plt.sca(ax)\n",
    "        ax.barh(range(len(_loo[r'pseudo-$r^2$'].values)), \n",
    "                 _loo[r'pseudo-$r^2$'].values, color='grey', align='center')\n",
    "        ax.set_yticks(range(len(_loo.LOO.values)))\n",
    "        ax.set_yticklabels(_loo.index.tolist())\n",
    "        ax.errorbar(y = range(len(_loo.LOO.values)), \n",
    "                    x = _loo[r'pseudo-$r^2$'].values,\n",
    "                    xerr = _loo['r2_err'].values, linestyle='None',\n",
    "                    color='k',\n",
    "                   )\n",
    "        xlb, xub = plt.gca().get_xlim()\n",
    "        ylb, yub = plt.gca().get_ylim()\n",
    "\n",
    "        ax.plot([min_r2, min_r2],[ylb, yub], 'r:')\n",
    "        ax.set_xticks([0., 0.2, 0.4, 0.6])\n",
    "        sns.despine()\n",
    "\n",
    "\n",
    "        ax.set_xlabel(r'pseudo-$r^2$')\n",
    "        plt.xticks(rotation=45)\n",
    "\n",
    "        #### second plot\n",
    "        ax = axes[1]\n",
    "        plt.sca(ax)\n",
    "\n",
    "        \n",
    "        if vars_ is None:\n",
    "            vars_  = ['mu_beta_rbf_mean', 'mu_beta_cls_mean', \n",
    "                      'mu_beta_rbf_stdv', 'mu_beta_cls_stdv',]\n",
    "        if labels is None:\n",
    "            labels = ['RBF Mean', 'Cls Mean', 'RBF Std', 'Cls Std']\n",
    "\n",
    "        y = summary.loc[vars_, 'mean'].values\n",
    "        plt.bar(range(4), y, color='skyblue')\n",
    "\n",
    "        for ii, b in enumerate(vars_):\n",
    "            ylb = summary.loc[b, 'hpd_2.5']\n",
    "            yub = summary.loc[b, 'hpd_97.5']\n",
    "            ax.plot([ii,ii], [ylb, yub], 'k', linewidth=2)\n",
    "        plt.xticks(range(len(y)))\n",
    "        ax.set_xticklabels(labels)\n",
    "\n",
    "        ax.axhline(y=0, color='k', linewidth=1)\n",
    "\n",
    "        plt.ylabel('Parameter Estimate')\n",
    "        plt.xticks(rotation=90)\n",
    "        ax.xaxis.label.set_visible(False)\n",
    "        return fig\n",
    "\n",
    "_ = plot_results(loo, summary, chance_loo)\n",
    "plt.savefig('fig_model_fits_exp_linear.pdf', dpi=300, bbox_inches='tight')"
   ]
  },
  {
   "cell_type": "markdown",
   "metadata": {},
   "source": [
    "# Experiment Change Point"
   ]
  },
  {
   "cell_type": "code",
   "execution_count": 4,
   "metadata": {},
   "outputs": [
    {
     "name": "stdout",
     "output_type": "stream",
     "text": [
      "Chance: 163444.105176\n"
     ]
    },
    {
     "data": {
      "text/html": [
       "<div>\n",
       "<style scoped>\n",
       "    .dataframe tbody tr th:only-of-type {\n",
       "        vertical-align: middle;\n",
       "    }\n",
       "\n",
       "    .dataframe tbody tr th {\n",
       "        vertical-align: top;\n",
       "    }\n",
       "\n",
       "    .dataframe thead th {\n",
       "        text-align: right;\n",
       "    }\n",
       "</style>\n",
       "<table border=\"1\" class=\"dataframe\">\n",
       "  <thead>\n",
       "    <tr style=\"text-align: right;\">\n",
       "      <th></th>\n",
       "      <th>LOO</th>\n",
       "      <th>dLOO</th>\n",
       "      <th>LOO_se</th>\n",
       "    </tr>\n",
       "  </thead>\n",
       "  <tbody>\n",
       "    <tr>\n",
       "      <th>Sticky-Choice</th>\n",
       "      <td>102276.618072</td>\n",
       "      <td>23921.019071</td>\n",
       "      <td>486.410436</td>\n",
       "    </tr>\n",
       "    <tr>\n",
       "      <th>Lin-Reg</th>\n",
       "      <td>101425.613110</td>\n",
       "      <td>23070.014110</td>\n",
       "      <td>484.558314</td>\n",
       "    </tr>\n",
       "    <tr>\n",
       "      <th>GP-RBF</th>\n",
       "      <td>87189.447312</td>\n",
       "      <td>8833.848311</td>\n",
       "      <td>473.710920</td>\n",
       "    </tr>\n",
       "    <tr>\n",
       "      <th>Bayesian-GP</th>\n",
       "      <td>83465.549982</td>\n",
       "      <td>5109.950982</td>\n",
       "      <td>462.814536</td>\n",
       "    </tr>\n",
       "    <tr>\n",
       "      <th>Kalman</th>\n",
       "      <td>82540.859890</td>\n",
       "      <td>4185.260889</td>\n",
       "      <td>485.059184</td>\n",
       "    </tr>\n",
       "    <tr>\n",
       "      <th>Clustering</th>\n",
       "      <td>81779.400685</td>\n",
       "      <td>3423.801684</td>\n",
       "      <td>481.802894</td>\n",
       "    </tr>\n",
       "    <tr>\n",
       "      <th>Linear/Clustering</th>\n",
       "      <td>81325.362616</td>\n",
       "      <td>2969.763616</td>\n",
       "      <td>479.926131</td>\n",
       "    </tr>\n",
       "    <tr>\n",
       "      <th>GP-RBF/Kalman</th>\n",
       "      <td>79682.879552</td>\n",
       "      <td>1327.280551</td>\n",
       "      <td>481.747704</td>\n",
       "    </tr>\n",
       "    <tr>\n",
       "      <th>GP-RBF/Clustering</th>\n",
       "      <td>78355.599000</td>\n",
       "      <td>0.000000</td>\n",
       "      <td>476.086496</td>\n",
       "    </tr>\n",
       "  </tbody>\n",
       "</table>\n",
       "</div>"
      ],
      "text/plain": [
       "                             LOO          dLOO      LOO_se\n",
       "Sticky-Choice      102276.618072  23921.019071  486.410436\n",
       "Lin-Reg            101425.613110  23070.014110  484.558314\n",
       "GP-RBF              87189.447312   8833.848311  473.710920\n",
       "Bayesian-GP         83465.549982   5109.950982  462.814536\n",
       "Kalman              82540.859890   4185.260889  485.059184\n",
       "Clustering          81779.400685   3423.801684  481.802894\n",
       "Linear/Clustering   81325.362616   2969.763616  479.926131\n",
       "GP-RBF/Kalman       79682.879552   1327.280551  481.747704\n",
       "GP-RBF/Clustering   78355.599000      0.000000  476.086496"
      ]
     },
     "execution_count": 4,
     "metadata": {},
     "output_type": "execute_result"
    }
   ],
   "source": [
    "loo = pd.read_pickle('Data/model_fits/model_fits_exp_cp.pkl')\n",
    "summary = pd.read_pickle('Data/model_fits/model_params_exp_cp_rbf_cls.pkl')\n",
    "\n",
    "# vars_  = ['mu_beta_lin_mean', 'mu_beta_cls_mean', \n",
    "#           'mu_beta_lin_stdv', 'mu_beta_cls_stdv',]\n",
    "# labels = ['Lin Mean', 'Cls Mean', 'Lin Std', 'Cls Std']\n",
    "            \n",
    "# calculate chance\n",
    "n = len(pd.read_csv('Data/exp_changepoint/changerbfpred.csv')) # n_subj * n_trails_per_subj\n",
    "n_arms = 8\n",
    "chance_loo = -2 * n * np.log(1. / n_arms)\n",
    "\n",
    "print \"Chance: {}\".format(chance_loo)\n",
    "\n",
    "loo.sort_values('LOO', ascending=False, inplace=True)\n",
    "loo['dLOO'] = loo.LOO - np.min(loo.LOO)\n",
    "loo['LOO dLOO LOO_se'.split()]"
   ]
  },
  {
   "cell_type": "code",
   "execution_count": 5,
   "metadata": {},
   "outputs": [
    {
     "data": {
      "image/png": "[encoded data removed]",
      "text/plain": [
       "<Figure size 360x180 with 2 Axes>"
      ]
     },
     "metadata": {},
     "output_type": "display_data"
    }
   ],
   "source": [
    "_ = plot_results(loo, summary, chance_loo)\n",
    "plt.savefig('fig_model_fits_exp_cp.pdf', dpi=300, bbox_inches='tight')"
   ]
  },
  {
   "cell_type": "code",
   "execution_count": null,
   "metadata": {},
   "outputs": [],
   "source": []
  },
  {
   "cell_type": "markdown",
   "metadata": {},
   "source": [
    "# Experiment Scrambled"
   ]
  },
  {
   "cell_type": "code",
   "execution_count": 6,
   "metadata": {},
   "outputs": [
    {
     "name": "stdout",
     "output_type": "stream",
     "text": [
      "Chance: 102308.523851\n"
     ]
    },
    {
     "data": {
      "text/html": [
       "<div>\n",
       "<style scoped>\n",
       "    .dataframe tbody tr th:only-of-type {\n",
       "        vertical-align: middle;\n",
       "    }\n",
       "\n",
       "    .dataframe tbody tr th {\n",
       "        vertical-align: top;\n",
       "    }\n",
       "\n",
       "    .dataframe thead th {\n",
       "        text-align: right;\n",
       "    }\n",
       "</style>\n",
       "<table border=\"1\" class=\"dataframe\">\n",
       "  <thead>\n",
       "    <tr style=\"text-align: right;\">\n",
       "      <th></th>\n",
       "      <th>LOO</th>\n",
       "      <th>dLOO</th>\n",
       "      <th>LOO_se</th>\n",
       "    </tr>\n",
       "  </thead>\n",
       "  <tbody>\n",
       "    <tr>\n",
       "      <th>Sticky-Choice</th>\n",
       "      <td>61623.540831</td>\n",
       "      <td>17825.538563</td>\n",
       "      <td>392.600549</td>\n",
       "    </tr>\n",
       "    <tr>\n",
       "      <th>Lin-Reg</th>\n",
       "      <td>59843.580073</td>\n",
       "      <td>16045.577805</td>\n",
       "      <td>389.632792</td>\n",
       "    </tr>\n",
       "    <tr>\n",
       "      <th>GP-RBF</th>\n",
       "      <td>47515.709879</td>\n",
       "      <td>3717.707611</td>\n",
       "      <td>384.791200</td>\n",
       "    </tr>\n",
       "    <tr>\n",
       "      <th>Bayesian-GP</th>\n",
       "      <td>47438.683217</td>\n",
       "      <td>3640.680950</td>\n",
       "      <td>383.125824</td>\n",
       "    </tr>\n",
       "    <tr>\n",
       "      <th>Clustering</th>\n",
       "      <td>45595.940702</td>\n",
       "      <td>1797.938434</td>\n",
       "      <td>378.727403</td>\n",
       "    </tr>\n",
       "    <tr>\n",
       "      <th>Linear/Clustering</th>\n",
       "      <td>45248.992712</td>\n",
       "      <td>1450.990444</td>\n",
       "      <td>377.569572</td>\n",
       "    </tr>\n",
       "    <tr>\n",
       "      <th>Kalman</th>\n",
       "      <td>44355.167170</td>\n",
       "      <td>557.164902</td>\n",
       "      <td>375.373361</td>\n",
       "    </tr>\n",
       "    <tr>\n",
       "      <th>GP-RBF/Clustering</th>\n",
       "      <td>43858.175944</td>\n",
       "      <td>60.173677</td>\n",
       "      <td>377.763555</td>\n",
       "    </tr>\n",
       "    <tr>\n",
       "      <th>GP-RBF/Kalman</th>\n",
       "      <td>43798.002267</td>\n",
       "      <td>0.000000</td>\n",
       "      <td>378.292263</td>\n",
       "    </tr>\n",
       "  </tbody>\n",
       "</table>\n",
       "</div>"
      ],
      "text/plain": [
       "                            LOO          dLOO      LOO_se\n",
       "Sticky-Choice      61623.540831  17825.538563  392.600549\n",
       "Lin-Reg            59843.580073  16045.577805  389.632792\n",
       "GP-RBF             47515.709879   3717.707611  384.791200\n",
       "Bayesian-GP        47438.683217   3640.680950  383.125824\n",
       "Clustering         45595.940702   1797.938434  378.727403\n",
       "Linear/Clustering  45248.992712   1450.990444  377.569572\n",
       "Kalman             44355.167170    557.164902  375.373361\n",
       "GP-RBF/Clustering  43858.175944     60.173677  377.763555\n",
       "GP-RBF/Kalman      43798.002267      0.000000  378.292263"
      ]
     },
     "execution_count": 6,
     "metadata": {},
     "output_type": "execute_result"
    }
   ],
   "source": [
    "loo = pd.read_pickle('Data/model_fits/model_fits_exp_scram.pkl')\n",
    "summary = pd.read_pickle('Data/model_fits/model_params_exp_scram_rbf_cls.pkl')\n",
    "loo.rename(index={'Kalman w/SC':'Simple Kalman'}, inplace=True)\n",
    "\n",
    "#note the \"Simple Kalman\" is modeled without sticky choice and wasn't included in the paper\n",
    "loo.drop('Simple Kalman', inplace=True)\n",
    "loo.drop('Scrambled', inplace=True)\n",
    "\n",
    "# calculate chance\n",
    "n = len(pd.read_csv('Data/exp_scrambled/gprbfscrambled.csv')) # n_subj * n_trails_per_subj\n",
    "n_arms = 8\n",
    "chance_loo = -2 * n * np.log(1. / n_arms)\n",
    "\n",
    "print \"Chance: {}\".format(chance_loo)\n",
    "\n",
    "loo.sort_values('LOO', ascending=False, inplace=True)\n",
    "loo['dLOO'] = loo.LOO - np.min(loo.LOO)\n",
    "loo['LOO dLOO LOO_se'.split()]"
   ]
  },
  {
   "cell_type": "code",
   "execution_count": 7,
   "metadata": {},
   "outputs": [
    {
     "data": {
      "image/png": "[encoded data removed]",
      "text/plain": [
       "<Figure size 360x180 with 2 Axes>"
      ]
     },
     "metadata": {},
     "output_type": "display_data"
    }
   ],
   "source": [
    "_ = plot_results(loo, summary, chance_loo)\n",
    "plt.savefig('fig_model_fits_exp_scrambled.pdf', dpi=300, bbox_inches='tight')"
   ]
  },
  {
   "cell_type": "markdown",
   "metadata": {},
   "source": [
    "# Experiment Shifted"
   ]
  },
  {
   "cell_type": "code",
   "execution_count": 8,
   "metadata": {},
   "outputs": [
    {
     "name": "stdout",
     "output_type": "stream",
     "text": [
      "Chance: 163444.105176\n"
     ]
    },
    {
     "data": {
      "text/html": [
       "<div>\n",
       "<style scoped>\n",
       "    .dataframe tbody tr th:only-of-type {\n",
       "        vertical-align: middle;\n",
       "    }\n",
       "\n",
       "    .dataframe tbody tr th {\n",
       "        vertical-align: top;\n",
       "    }\n",
       "\n",
       "    .dataframe thead th {\n",
       "        text-align: right;\n",
       "    }\n",
       "</style>\n",
       "<table border=\"1\" class=\"dataframe\">\n",
       "  <thead>\n",
       "    <tr style=\"text-align: right;\">\n",
       "      <th></th>\n",
       "      <th>LOO</th>\n",
       "      <th>dLOO</th>\n",
       "      <th>LOO_se</th>\n",
       "    </tr>\n",
       "  </thead>\n",
       "  <tbody>\n",
       "    <tr>\n",
       "      <th>Sticky-Choice</th>\n",
       "      <td>120859.072811</td>\n",
       "      <td>27308.598199</td>\n",
       "      <td>430.277644</td>\n",
       "    </tr>\n",
       "    <tr>\n",
       "      <th>Lin-Reg</th>\n",
       "      <td>115895.964440</td>\n",
       "      <td>22345.489829</td>\n",
       "      <td>444.243539</td>\n",
       "    </tr>\n",
       "    <tr>\n",
       "      <th>Bayesian-GP</th>\n",
       "      <td>109823.165807</td>\n",
       "      <td>16272.691195</td>\n",
       "      <td>457.807441</td>\n",
       "    </tr>\n",
       "    <tr>\n",
       "      <th>Kalman</th>\n",
       "      <td>109613.762119</td>\n",
       "      <td>16063.287507</td>\n",
       "      <td>459.350548</td>\n",
       "    </tr>\n",
       "    <tr>\n",
       "      <th>Clustering</th>\n",
       "      <td>103176.607294</td>\n",
       "      <td>9626.132682</td>\n",
       "      <td>467.884898</td>\n",
       "    </tr>\n",
       "    <tr>\n",
       "      <th>GP-RBF</th>\n",
       "      <td>101631.696967</td>\n",
       "      <td>8081.222356</td>\n",
       "      <td>471.337316</td>\n",
       "    </tr>\n",
       "    <tr>\n",
       "      <th>Linear/Clustering</th>\n",
       "      <td>100949.175983</td>\n",
       "      <td>7398.701372</td>\n",
       "      <td>468.220908</td>\n",
       "    </tr>\n",
       "    <tr>\n",
       "      <th>GP-RBF/Kalman</th>\n",
       "      <td>98830.526410</td>\n",
       "      <td>5280.051799</td>\n",
       "      <td>472.622342</td>\n",
       "    </tr>\n",
       "    <tr>\n",
       "      <th>GP-RBF/Clustering</th>\n",
       "      <td>93550.474611</td>\n",
       "      <td>0.000000</td>\n",
       "      <td>477.185323</td>\n",
       "    </tr>\n",
       "  </tbody>\n",
       "</table>\n",
       "</div>"
      ],
      "text/plain": [
       "                             LOO          dLOO      LOO_se\n",
       "Sticky-Choice      120859.072811  27308.598199  430.277644\n",
       "Lin-Reg            115895.964440  22345.489829  444.243539\n",
       "Bayesian-GP        109823.165807  16272.691195  457.807441\n",
       "Kalman             109613.762119  16063.287507  459.350548\n",
       "Clustering         103176.607294   9626.132682  467.884898\n",
       "GP-RBF             101631.696967   8081.222356  471.337316\n",
       "Linear/Clustering  100949.175983   7398.701372  468.220908\n",
       "GP-RBF/Kalman       98830.526410   5280.051799  472.622342\n",
       "GP-RBF/Clustering   93550.474611      0.000000  477.185323"
      ]
     },
     "execution_count": 8,
     "metadata": {},
     "output_type": "execute_result"
    }
   ],
   "source": [
    "loo = pd.read_pickle('Data/model_fits/model_fits_exp_shifted.pkl')\n",
    "summary = pd.read_pickle('Data/model_fits/model_params_exp_shifted_rbf_cls.pkl')\n",
    "loo.rename(index={'Kalman w/SC':'Simple Kalman'}, inplace=True)\n",
    "\n",
    "#note the \"Simple Kalman\" is modeled without sticky choice and wasn't included in the paper\n",
    "loo.drop('Scrambled', inplace=True)\n",
    "\n",
    "# calculate chance\n",
    "n = len(pd.read_csv('Data/exp_shifted/gprbfshifted.csv')) # n_subj * n_trails_per_subj\n",
    "n_arms = 8\n",
    "chance_loo = -2 * n * np.log(1. / n_arms)\n",
    "\n",
    "print \"Chance: {}\".format(chance_loo)\n",
    "\n",
    "loo.sort_values('LOO', ascending=False, inplace=True)\n",
    "loo['dLOO'] = loo.LOO - np.min(loo.LOO)\n",
    "loo['LOO dLOO LOO_se'.split()]"
   ]
  },
  {
   "cell_type": "code",
   "execution_count": 9,
   "metadata": {},
   "outputs": [
    {
     "data": {
      "image/png": "[encoded data removed]",
      "text/plain": [
       "<Figure size 360x180 with 2 Axes>"
      ]
     },
     "metadata": {},
     "output_type": "display_data"
    }
   ],
   "source": [
    "_ = plot_results(loo, summary, chance_loo)\n",
    "plt.savefig('fig_model_fits_exp_shifted.pdf', dpi=300, bbox_inches='tight')"
   ]
  },
  {
   "cell_type": "markdown",
   "metadata": {},
   "source": [
    "# Experiment SRS"
   ]
  },
  {
   "cell_type": "code",
   "execution_count": 10,
   "metadata": {},
   "outputs": [
    {
     "name": "stdout",
     "output_type": "stream",
     "text": [
      "Chance: 140986.136526\n"
     ]
    },
    {
     "data": {
      "text/html": [
       "<div>\n",
       "<style scoped>\n",
       "    .dataframe tbody tr th:only-of-type {\n",
       "        vertical-align: middle;\n",
       "    }\n",
       "\n",
       "    .dataframe tbody tr th {\n",
       "        vertical-align: top;\n",
       "    }\n",
       "\n",
       "    .dataframe thead th {\n",
       "        text-align: right;\n",
       "    }\n",
       "</style>\n",
       "<table border=\"1\" class=\"dataframe\">\n",
       "  <thead>\n",
       "    <tr style=\"text-align: right;\">\n",
       "      <th></th>\n",
       "      <th>LOO</th>\n",
       "      <th>dLOO</th>\n",
       "      <th>LOO_se</th>\n",
       "    </tr>\n",
       "  </thead>\n",
       "  <tbody>\n",
       "    <tr>\n",
       "      <th>Sticky-Choice</th>\n",
       "      <td>88261.808536</td>\n",
       "      <td>24670.740192</td>\n",
       "      <td>452.377869</td>\n",
       "    </tr>\n",
       "    <tr>\n",
       "      <th>Lin-Reg</th>\n",
       "      <td>86065.490931</td>\n",
       "      <td>22474.422586</td>\n",
       "      <td>451.208158</td>\n",
       "    </tr>\n",
       "    <tr>\n",
       "      <th>Bayesian-GP</th>\n",
       "      <td>69447.723773</td>\n",
       "      <td>5856.655429</td>\n",
       "      <td>450.577691</td>\n",
       "    </tr>\n",
       "    <tr>\n",
       "      <th>GP-RBF</th>\n",
       "      <td>68376.396843</td>\n",
       "      <td>4785.328499</td>\n",
       "      <td>449.838894</td>\n",
       "    </tr>\n",
       "    <tr>\n",
       "      <th>Clustering</th>\n",
       "      <td>66262.397727</td>\n",
       "      <td>2671.329383</td>\n",
       "      <td>444.585014</td>\n",
       "    </tr>\n",
       "    <tr>\n",
       "      <th>Linear/Clustering</th>\n",
       "      <td>65932.360612</td>\n",
       "      <td>2341.292268</td>\n",
       "      <td>443.335323</td>\n",
       "    </tr>\n",
       "    <tr>\n",
       "      <th>Kalman</th>\n",
       "      <td>65121.517049</td>\n",
       "      <td>1530.448705</td>\n",
       "      <td>441.186982</td>\n",
       "    </tr>\n",
       "    <tr>\n",
       "      <th>GP-RBF/Kalman</th>\n",
       "      <td>64290.905294</td>\n",
       "      <td>699.836950</td>\n",
       "      <td>440.729319</td>\n",
       "    </tr>\n",
       "    <tr>\n",
       "      <th>GP-RBF/Clustering</th>\n",
       "      <td>63591.068344</td>\n",
       "      <td>0.000000</td>\n",
       "      <td>443.057297</td>\n",
       "    </tr>\n",
       "  </tbody>\n",
       "</table>\n",
       "</div>"
      ],
      "text/plain": [
       "                            LOO          dLOO      LOO_se\n",
       "Sticky-Choice      88261.808536  24670.740192  452.377869\n",
       "Lin-Reg            86065.490931  22474.422586  451.208158\n",
       "Bayesian-GP        69447.723773   5856.655429  450.577691\n",
       "GP-RBF             68376.396843   4785.328499  449.838894\n",
       "Clustering         66262.397727   2671.329383  444.585014\n",
       "Linear/Clustering  65932.360612   2341.292268  443.335323\n",
       "Kalman             65121.517049   1530.448705  441.186982\n",
       "GP-RBF/Kalman      64290.905294    699.836950  440.729319\n",
       "GP-RBF/Clustering  63591.068344      0.000000  443.057297"
      ]
     },
     "execution_count": 10,
     "metadata": {},
     "output_type": "execute_result"
    }
   ],
   "source": [
    "loo = pd.read_pickle('Data/model_fits/model_fits_exp_srs.pkl')\n",
    "summary = pd.read_pickle('Data/model_fits/model_params_exp_srs_rbf_cls.pkl')\n",
    "\n",
    "#note the \"Simple Kalman\" is modeled without sticky choice and wasn't included in the paper\n",
    "loo.drop('Scrambled', inplace=True)\n",
    "\n",
    "\n",
    "# calculate chance\n",
    "n = len(pd.read_csv('Data/exp_srs/gprbfsrs.csv')) # n_subj * n_trails_per_subj\n",
    "n_arms = 8\n",
    "chance_loo = -2 * n * np.log(1. / n_arms)\n",
    "\n",
    "print \"Chance: {}\".format(chance_loo)\n",
    "\n",
    "loo.sort_values('LOO', ascending=False, inplace=True)\n",
    "loo['dLOO'] = loo.LOO - np.min(loo.LOO)\n",
    "loo['LOO dLOO LOO_se'.split()]"
   ]
  },
  {
   "cell_type": "code",
   "execution_count": 11,
   "metadata": {},
   "outputs": [
    {
     "data": {
      "image/png": "[encoded data removed]",
      "text/plain": [
       "<Figure size 360x180 with 2 Axes>"
      ]
     },
     "metadata": {},
     "output_type": "display_data"
    }
   ],
   "source": [
    "_ = plot_results(loo, summary, chance_loo)\n",
    "plt.savefig('fig_model_fits_exp_srs.pdf', dpi=300, bbox_inches='tight')"
   ]
  },
  {
   "cell_type": "code",
   "execution_count": 12,
   "metadata": {},
   "outputs": [
    {
     "data": {
      "text/plain": [
       "-1.0820212806667227"
      ]
     },
     "execution_count": 12,
     "metadata": {},
     "output_type": "execute_result"
    }
   ],
   "source": [
    "np.log2(np.exp(1.5/-2))"
   ]
  },
  {
   "cell_type": "code",
   "execution_count": 13,
   "metadata": {},
   "outputs": [
    {
     "data": {
      "image/png": "[encoded data removed]",
      "text/plain": [
       "<Figure size 288x288 with 1 Axes>"
      ]
     },
     "metadata": {},
     "output_type": "display_data"
    }
   ],
   "source": [
    "loo = pd.read_pickle('Data/model_fits/model_fits_exp_cp.pkl') \\\n",
    " + pd.read_pickle('Data/model_fits/model_fits_exp_srs.pkl') \\\n",
    " + pd.read_pickle('Data/model_fits/model_fits_exp_lin.pkl') \\\n",
    " + pd.read_pickle('Data/model_fits/model_fits_exp_scram.pkl') \\\n",
    " + pd.read_pickle('Data/model_fits/model_fits_exp_shifted.pkl')\n",
    "loo.sort_values('LOO', ascending=False, inplace=True)\n",
    "\n",
    "#note the \"Simple Kalman\" is modeled without sticky choice and wasn't included in the paper\n",
    "loo.drop('Kalman w/SC', inplace=True)\n",
    "\n",
    "\n",
    "\n",
    "n = len(pd.read_csv('Data/exp_srs/gprbfsrs.csv')) \\\n",
    "    + len(pd.read_csv('Data/exp_shifted/gprbfshifted.csv')) \\\n",
    "    + len(pd.read_csv('Data/exp_scrambled/gprbfscrambled.csv')) \\\n",
    "    + len(pd.read_csv('Data/exp_changepoint/changerbfpred.csv')) \\\n",
    "    + len(pd.read_csv('Data/exp_linear/rbfpred.csv'))\n",
    "# n_subj * n_trails_per_subj\n",
    "n_arms = 8\n",
    "chance_loo = -2 * n * np.log(1. / n_arms)\n",
    "\n",
    "_loo = loo.sort_values('LOO')\n",
    "_loo[r'pseudo-$r^2$'] = 1 - _loo.LOO / chance_loo\n",
    "_loo['r2_err'] = _loo.LOO_se / chance_loo\n",
    "fig, ax =  plt.subplots(1, 1, figsize=(4, 4), gridspec_kw=dict(wspace=0.5))\n",
    "min_r2 = np.max(_loo[r'pseudo-$r^2$'])\n",
    "with sns.axes_style('ticks'):\n",
    "    plt.sca(ax)\n",
    "    ax.barh(range(len(_loo[r'pseudo-$r^2$'].values)), \n",
    "             _loo[r'pseudo-$r^2$'].values, color='grey', align='center')\n",
    "    ax.set_yticks(range(len(_loo.LOO.values)))\n",
    "    ax.set_yticklabels(_loo.index.tolist())\n",
    "    ax.errorbar(y = range(len(_loo.LOO.values)), \n",
    "                x = _loo[r'pseudo-$r^2$'].values,\n",
    "                xerr = _loo['r2_err'].values, linestyle='None',\n",
    "                color='k',\n",
    "               )\n",
    "    xlb, xub = plt.gca().get_xlim()\n",
    "    ylb, yub = plt.gca().get_ylim()\n",
    "\n",
    "    ax.plot([min_r2, min_r2],[ylb, yub], 'r:')\n",
    "    ax.set_xticks([0., 0.2, 0.4, 0.6])\n",
    "    sns.despine()\n",
    "\n",
    "\n",
    "    ax.set_xlabel(r'pseudo-$r^2$')\n",
    "    plt.xticks(rotation=45)\n",
    "\n",
    "    "
   ]
  },
  {
   "cell_type": "code",
   "execution_count": null,
   "metadata": {},
   "outputs": [],
   "source": []
  }
 ],
 "metadata": {
  "kernelspec": {
   "display_name": "Python 2",
   "language": "python",
   "name": "python2"
  },
  "language_info": {
   "codemirror_mode": {
    "name": "ipython",
    "version": 2
   },
   "file_extension": ".py",
   "mimetype": "text/x-python",
   "name": "python",
   "nbconvert_exporter": "python",
   "pygments_lexer": "ipython2",
   "version": "2.7.15"
  }
 },
 "nbformat": 4,
 "nbformat_minor": 2
}
