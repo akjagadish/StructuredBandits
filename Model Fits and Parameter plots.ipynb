{
 "cells": [
  {
   "cell_type": "markdown",
   "metadata": {},
   "source": []
  },
  {
   "cell_type": "markdown",
   "metadata": {},
   "source": [
    "Note: All of the model fits presented here have been pre-run using the script `choice_models.py`. This can take a lot of time to run."
   ]
  },
  {
   "cell_type": "code",
   "execution_count": 1,
   "metadata": {},
   "outputs": [],
   "source": [
    "%matplotlib inline\n",
    "import numpy as np\n",
    "import pandas as pd\n",
    "import seaborn as sns\n",
    "import matplotlib.pyplot as plt\n",
    "sns.set_context('paper')\n",
    "\n",
    "fig_size = (4.5, 2.0)"
   ]
  },
  {
   "cell_type": "markdown",
   "metadata": {},
   "source": [
    "# Experiment 1"
   ]
  },
  {
   "cell_type": "code",
   "execution_count": 2,
   "metadata": {},
   "outputs": [
    {
     "data": {
      "text/html": [
       "<div>\n",
       "<style scoped>\n",
       "    .dataframe tbody tr th:only-of-type {\n",
       "        vertical-align: middle;\n",
       "    }\n",
       "\n",
       "    .dataframe tbody tr th {\n",
       "        vertical-align: top;\n",
       "    }\n",
       "\n",
       "    .dataframe thead th {\n",
       "        text-align: right;\n",
       "    }\n",
       "</style>\n",
       "<table border=\"1\" class=\"dataframe\">\n",
       "  <thead>\n",
       "    <tr style=\"text-align: right;\">\n",
       "      <th></th>\n",
       "      <th>LOO</th>\n",
       "      <th>LOO_se</th>\n",
       "      <th>p_LOO</th>\n",
       "      <th>shape_warn</th>\n",
       "    </tr>\n",
       "  </thead>\n",
       "  <tbody>\n",
       "    <tr>\n",
       "      <th>GP-RBF/Clustering</th>\n",
       "      <td>51423.545067</td>\n",
       "      <td>424.499452</td>\n",
       "      <td>385.233537</td>\n",
       "      <td>1</td>\n",
       "    </tr>\n",
       "    <tr>\n",
       "      <th>Linear/Clustering</th>\n",
       "      <td>53652.000256</td>\n",
       "      <td>422.527828</td>\n",
       "      <td>319.484642</td>\n",
       "      <td>1</td>\n",
       "    </tr>\n",
       "    <tr>\n",
       "      <th>GP-RBF/Kalman</th>\n",
       "      <td>53652.620514</td>\n",
       "      <td>422.534691</td>\n",
       "      <td>319.163747</td>\n",
       "      <td>1</td>\n",
       "    </tr>\n",
       "    <tr>\n",
       "      <th>Clustering</th>\n",
       "      <td>54121.496627</td>\n",
       "      <td>424.809565</td>\n",
       "      <td>218.976804</td>\n",
       "      <td>1</td>\n",
       "    </tr>\n",
       "    <tr>\n",
       "      <th>Kalman</th>\n",
       "      <td>54122.157548</td>\n",
       "      <td>424.828126</td>\n",
       "      <td>219.394059</td>\n",
       "      <td>1</td>\n",
       "    </tr>\n",
       "    <tr>\n",
       "      <th>GP-RBF</th>\n",
       "      <td>55613.788485</td>\n",
       "      <td>432.336853</td>\n",
       "      <td>328.383103</td>\n",
       "      <td>1</td>\n",
       "    </tr>\n",
       "    <tr>\n",
       "      <th>Bayesian-GP</th>\n",
       "      <td>58137.534089</td>\n",
       "      <td>438.439840</td>\n",
       "      <td>278.864156</td>\n",
       "      <td>1</td>\n",
       "    </tr>\n",
       "    <tr>\n",
       "      <th>Lin-Reg</th>\n",
       "      <td>71422.248629</td>\n",
       "      <td>452.491382</td>\n",
       "      <td>264.966515</td>\n",
       "      <td>1</td>\n",
       "    </tr>\n",
       "    <tr>\n",
       "      <th>Scrambled</th>\n",
       "      <td>74097.900166</td>\n",
       "      <td>457.744119</td>\n",
       "      <td>120.255454</td>\n",
       "      <td>1</td>\n",
       "    </tr>\n",
       "  </tbody>\n",
       "</table>\n",
       "</div>"
      ],
      "text/plain": [
       "                            LOO      LOO_se       p_LOO  shape_warn\n",
       "GP-RBF/Clustering  51423.545067  424.499452  385.233537           1\n",
       "Linear/Clustering  53652.000256  422.527828  319.484642           1\n",
       "GP-RBF/Kalman      53652.620514  422.534691  319.163747           1\n",
       "Clustering         54121.496627  424.809565  218.976804           1\n",
       "Kalman             54122.157548  424.828126  219.394059           1\n",
       "GP-RBF             55613.788485  432.336853  328.383103           1\n",
       "Bayesian-GP        58137.534089  438.439840  278.864156           1\n",
       "Lin-Reg            71422.248629  452.491382  264.966515           1\n",
       "Scrambled          74097.900166  457.744119  120.255454           1"
      ]
     },
     "execution_count": 2,
     "metadata": {},
     "output_type": "execute_result"
    }
   ],
   "source": [
    "loo = pd.read_pickle('Data/model_fits/model_fits_exp_lin.pkl').sort_values('LOO')\n",
    "summary = pd.read_pickle('Data/model_fits/model_params_exp_lin_rbf_cls.pkl')\n",
    "loo"
   ]
  },
  {
   "cell_type": "code",
   "execution_count": 3,
   "metadata": {},
   "outputs": [],
   "source": [
    "# calculate chance\n",
    "n = len(pd.read_csv('Data/exp_linear/rbfpred.csv')) # n_subj * n_trails_per_subj\n",
    "n_arms = 8\n",
    "chance_loo = -2 * n * np.log(1. / n_arms)"
   ]
  },
  {
   "cell_type": "code",
   "execution_count": 4,
   "metadata": {},
   "outputs": [
    {
     "data": {
      "image/png": "[encoded data removed]",
      "text/plain": [
       "<Figure size 324x144 with 2 Axes>"
      ]
     },
     "metadata": {},
     "output_type": "display_data"
    }
   ],
   "source": [
    "def plot_results(loo, summary, chance_loo):\n",
    "    fig, axes = plt.subplots(1, 2, figsize=fig_size, gridspec_kw=dict(wspace=0.5))\n",
    "    ax = axes[0]\n",
    "    min_loo = np.min(loo.LOO - chance_loo)\n",
    "    with sns.axes_style('ticks'):\n",
    "        plt.sca(ax)\n",
    "        ax.barh(range(len(loo.LOO.values)), \n",
    "                 loo.LOO.values - chance_loo, color='grey', align='center')\n",
    "        ax.set_yticks(range(len(loo.LOO.values)))\n",
    "        ax.set_yticklabels(loo.index.tolist())\n",
    "        ax.errorbar(y = range(len(loo.LOO.values)), \n",
    "                    x = loo.LOO.values - chance_loo,\n",
    "                    xerr = loo.LOO_se.values, linestyle='None',\n",
    "                    color='k',\n",
    "                   )\n",
    "        xlb, xub = plt.gca().get_xlim()\n",
    "        ylb, yub = plt.gca().get_ylim()\n",
    "\n",
    "        ax.plot([min_loo, min_loo],[ylb, yub], 'r:')\n",
    "        ax.set_xlim([xub, xlb])\n",
    "        sns.despine()\n",
    "\n",
    "#         ax.set_xticks([-80000., -70000.,  -60000.])\n",
    "#         ax.set_xticklabels([r'$-8\\times10^4$', r'$-7\\times10^4$', \n",
    "#                             r'$-6\\times10^4$'])\n",
    "        ax.set_xlabel('LOO')\n",
    "        plt.xticks(rotation=45)\n",
    "\n",
    "        #### second plot\n",
    "        ax = axes[1]\n",
    "        plt.sca(ax)\n",
    "\n",
    "        vars_  = ['mu_beta_rbf_mean', 'mu_beta_cls_mean', \n",
    "                  'mu_beta_rbf_stdv', 'mu_beta_cls_stdv',]\n",
    "        labels = ['RBF Mean', 'Cls Mean', 'RBF Std', 'Cls Std']\n",
    "\n",
    "        y = summary.loc[vars_, 'mean'].values\n",
    "        plt.bar(range(4), y, color='skyblue')\n",
    "\n",
    "        for ii, b in enumerate(vars_):\n",
    "            ylb = summary.loc[b, 'hpd_2.5']\n",
    "            yub = summary.loc[b, 'hpd_97.5']\n",
    "            ax.plot([ii,ii], [ylb, yub], 'k', linewidth=2)\n",
    "        plt.xticks(range(len(y)))\n",
    "        ax.set_xticklabels(labels)\n",
    "\n",
    "        ax.axhline(y=0, color='k', linewidth=1)\n",
    "\n",
    "        plt.ylabel('Parameter Estimate')\n",
    "        plt.xticks(rotation=90)\n",
    "        ax.xaxis.label.set_visible(False)\n",
    "        return fig\n",
    "\n",
    "_ = plot_results(loo, summary, chance_loo)"
   ]
  },
  {
   "cell_type": "markdown",
   "metadata": {},
   "source": [
    "# Experiment Change Point"
   ]
  },
  {
   "cell_type": "code",
   "execution_count": 5,
   "metadata": {},
   "outputs": [
    {
     "data": {
      "text/html": [
       "<div>\n",
       "<style scoped>\n",
       "    .dataframe tbody tr th:only-of-type {\n",
       "        vertical-align: middle;\n",
       "    }\n",
       "\n",
       "    .dataframe tbody tr th {\n",
       "        vertical-align: top;\n",
       "    }\n",
       "\n",
       "    .dataframe thead th {\n",
       "        text-align: right;\n",
       "    }\n",
       "</style>\n",
       "<table border=\"1\" class=\"dataframe\">\n",
       "  <thead>\n",
       "    <tr style=\"text-align: right;\">\n",
       "      <th></th>\n",
       "      <th>LOO</th>\n",
       "      <th>LOO_se</th>\n",
       "      <th>p_LOO</th>\n",
       "      <th>shape_warn</th>\n",
       "    </tr>\n",
       "  </thead>\n",
       "  <tbody>\n",
       "    <tr>\n",
       "      <th>GP-RBF/Kalman</th>\n",
       "      <td>81323.941682</td>\n",
       "      <td>479.878689</td>\n",
       "      <td>395.103116</td>\n",
       "      <td>1</td>\n",
       "    </tr>\n",
       "    <tr>\n",
       "      <th>Linear/Clustering</th>\n",
       "      <td>81323.994177</td>\n",
       "      <td>479.876519</td>\n",
       "      <td>395.236678</td>\n",
       "      <td>1</td>\n",
       "    </tr>\n",
       "    <tr>\n",
       "      <th>GP-RBF/Clustering</th>\n",
       "      <td>81325.406960</td>\n",
       "      <td>479.877466</td>\n",
       "      <td>395.935827</td>\n",
       "      <td>1</td>\n",
       "    </tr>\n",
       "    <tr>\n",
       "      <th>Kalman</th>\n",
       "      <td>81774.806889</td>\n",
       "      <td>481.775447</td>\n",
       "      <td>291.963381</td>\n",
       "      <td>1</td>\n",
       "    </tr>\n",
       "    <tr>\n",
       "      <th>Clustering</th>\n",
       "      <td>81776.347222</td>\n",
       "      <td>481.782409</td>\n",
       "      <td>292.895383</td>\n",
       "      <td>1</td>\n",
       "    </tr>\n",
       "    <tr>\n",
       "      <th>Bayesian-GP</th>\n",
       "      <td>83465.422383</td>\n",
       "      <td>462.760712</td>\n",
       "      <td>304.099840</td>\n",
       "      <td>1</td>\n",
       "    </tr>\n",
       "    <tr>\n",
       "      <th>GP-RBF</th>\n",
       "      <td>100584.716005</td>\n",
       "      <td>483.323023</td>\n",
       "      <td>375.036625</td>\n",
       "      <td>1</td>\n",
       "    </tr>\n",
       "    <tr>\n",
       "      <th>Lin-Reg</th>\n",
       "      <td>101423.755973</td>\n",
       "      <td>484.530571</td>\n",
       "      <td>220.037589</td>\n",
       "      <td>1</td>\n",
       "    </tr>\n",
       "  </tbody>\n",
       "</table>\n",
       "</div>"
      ],
      "text/plain": [
       "                             LOO      LOO_se       p_LOO  shape_warn\n",
       "GP-RBF/Kalman       81323.941682  479.878689  395.103116           1\n",
       "Linear/Clustering   81323.994177  479.876519  395.236678           1\n",
       "GP-RBF/Clustering   81325.406960  479.877466  395.935827           1\n",
       "Kalman              81774.806889  481.775447  291.963381           1\n",
       "Clustering          81776.347222  481.782409  292.895383           1\n",
       "Bayesian-GP         83465.422383  462.760712  304.099840           1\n",
       "GP-RBF             100584.716005  483.323023  375.036625           1\n",
       "Lin-Reg            101423.755973  484.530571  220.037589           1"
      ]
     },
     "execution_count": 5,
     "metadata": {},
     "output_type": "execute_result"
    }
   ],
   "source": [
    "loo = pd.read_pickle('Data/model_fits/model_fits_exp_cp.pkl').sort_values('LOO')\n",
    "summary = pd.read_pickle('Data/model_fits/model_params_exp_cp_rbf_cls.pkl')\n",
    "loo"
   ]
  },
  {
   "cell_type": "code",
   "execution_count": 6,
   "metadata": {},
   "outputs": [],
   "source": [
    "# note, GP-RBF/Clustering and Linear clustering are indistinguishable for this model"
   ]
  },
  {
   "cell_type": "code",
   "execution_count": 7,
   "metadata": {},
   "outputs": [],
   "source": [
    "# calculate chance\n",
    "n = len(pd.read_csv('Data/exp_changepoint/changerbfpred.csv')) # n_subj * n_trails_per_subj\n",
    "n_arms = 8\n",
    "chance_loo = -2 * n * np.log(1. / n_arms)"
   ]
  },
  {
   "cell_type": "code",
   "execution_count": 8,
   "metadata": {},
   "outputs": [
    {
     "data": {
      "image/png": "[encoded data removed]",
      "text/plain": [
       "<Figure size 324x144 with 2 Axes>"
      ]
     },
     "metadata": {},
     "output_type": "display_data"
    }
   ],
   "source": [
    "_ = plot_results(loo, summary, chance_loo)"
   ]
  },
  {
   "cell_type": "markdown",
   "metadata": {},
   "source": [
    "# Experiment Scrambled"
   ]
  },
  {
   "cell_type": "code",
   "execution_count": 9,
   "metadata": {},
   "outputs": [
    {
     "data": {
      "text/html": [
       "<div>\n",
       "<style scoped>\n",
       "    .dataframe tbody tr th:only-of-type {\n",
       "        vertical-align: middle;\n",
       "    }\n",
       "\n",
       "    .dataframe tbody tr th {\n",
       "        vertical-align: top;\n",
       "    }\n",
       "\n",
       "    .dataframe thead th {\n",
       "        text-align: right;\n",
       "    }\n",
       "</style>\n",
       "<table border=\"1\" class=\"dataframe\">\n",
       "  <thead>\n",
       "    <tr style=\"text-align: right;\">\n",
       "      <th></th>\n",
       "      <th>LOO</th>\n",
       "      <th>LOO_se</th>\n",
       "      <th>p_LOO</th>\n",
       "      <th>shape_warn</th>\n",
       "    </tr>\n",
       "  </thead>\n",
       "  <tbody>\n",
       "    <tr>\n",
       "      <th>GP-RBF/Clustering</th>\n",
       "      <td>43858.175944</td>\n",
       "      <td>377.763555</td>\n",
       "      <td>311.721060</td>\n",
       "      <td>1</td>\n",
       "    </tr>\n",
       "    <tr>\n",
       "      <th>Linear/Clustering</th>\n",
       "      <td>45248.992712</td>\n",
       "      <td>377.569572</td>\n",
       "      <td>269.507152</td>\n",
       "      <td>1</td>\n",
       "    </tr>\n",
       "    <tr>\n",
       "      <th>GP-RBF/Kalman</th>\n",
       "      <td>45251.443890</td>\n",
       "      <td>377.572884</td>\n",
       "      <td>270.145476</td>\n",
       "      <td>1</td>\n",
       "    </tr>\n",
       "    <tr>\n",
       "      <th>Kalman</th>\n",
       "      <td>45592.315077</td>\n",
       "      <td>378.716824</td>\n",
       "      <td>187.427419</td>\n",
       "      <td>1</td>\n",
       "    </tr>\n",
       "    <tr>\n",
       "      <th>Clustering</th>\n",
       "      <td>45595.940702</td>\n",
       "      <td>378.727403</td>\n",
       "      <td>189.231037</td>\n",
       "      <td>1</td>\n",
       "    </tr>\n",
       "    <tr>\n",
       "      <th>GP-RBF</th>\n",
       "      <td>47144.564512</td>\n",
       "      <td>383.442492</td>\n",
       "      <td>277.471653</td>\n",
       "      <td>1</td>\n",
       "    </tr>\n",
       "    <tr>\n",
       "      <th>Bayesian-GP</th>\n",
       "      <td>47438.683217</td>\n",
       "      <td>383.125824</td>\n",
       "      <td>192.688981</td>\n",
       "      <td>1</td>\n",
       "    </tr>\n",
       "    <tr>\n",
       "      <th>Lin-Reg</th>\n",
       "      <td>59843.580073</td>\n",
       "      <td>389.632792</td>\n",
       "      <td>197.662594</td>\n",
       "      <td>1</td>\n",
       "    </tr>\n",
       "    <tr>\n",
       "      <th>Scrambled</th>\n",
       "      <td>61617.446734</td>\n",
       "      <td>392.639567</td>\n",
       "      <td>109.770939</td>\n",
       "      <td>1</td>\n",
       "    </tr>\n",
       "  </tbody>\n",
       "</table>\n",
       "</div>"
      ],
      "text/plain": [
       "                            LOO      LOO_se       p_LOO  shape_warn\n",
       "GP-RBF/Clustering  43858.175944  377.763555  311.721060           1\n",
       "Linear/Clustering  45248.992712  377.569572  269.507152           1\n",
       "GP-RBF/Kalman      45251.443890  377.572884  270.145476           1\n",
       "Kalman             45592.315077  378.716824  187.427419           1\n",
       "Clustering         45595.940702  378.727403  189.231037           1\n",
       "GP-RBF             47144.564512  383.442492  277.471653           1\n",
       "Bayesian-GP        47438.683217  383.125824  192.688981           1\n",
       "Lin-Reg            59843.580073  389.632792  197.662594           1\n",
       "Scrambled          61617.446734  392.639567  109.770939           1"
      ]
     },
     "execution_count": 9,
     "metadata": {},
     "output_type": "execute_result"
    }
   ],
   "source": [
    "loo = pd.read_pickle('Data/model_fits/model_fits_exp_scram.pkl').sort_values('LOO')\n",
    "summary = pd.read_pickle('Data/model_fits/model_params_exp_scram_rbf_cls.pkl')\n",
    "loo"
   ]
  },
  {
   "cell_type": "code",
   "execution_count": 10,
   "metadata": {},
   "outputs": [
    {
     "data": {
      "image/png": "[encoded data removed]",
      "text/plain": [
       "<Figure size 324x144 with 2 Axes>"
      ]
     },
     "metadata": {},
     "output_type": "display_data"
    }
   ],
   "source": [
    "# calculate chance\n",
    "n = len(pd.read_csv('Data/exp_scrambled/gprbfscrambled.csv')) # n_subj * n_trails_per_subj\n",
    "n_arms = 8\n",
    "chance_loo = -2 * n * np.log(1. / n_arms)\n",
    "\n",
    "_ = plot_results(loo, summary, chance_loo)"
   ]
  },
  {
   "cell_type": "markdown",
   "metadata": {},
   "source": [
    "# Experiment Shifted"
   ]
  },
  {
   "cell_type": "code",
   "execution_count": 11,
   "metadata": {},
   "outputs": [
    {
     "data": {
      "text/html": [
       "<div>\n",
       "<style scoped>\n",
       "    .dataframe tbody tr th:only-of-type {\n",
       "        vertical-align: middle;\n",
       "    }\n",
       "\n",
       "    .dataframe tbody tr th {\n",
       "        vertical-align: top;\n",
       "    }\n",
       "\n",
       "    .dataframe thead th {\n",
       "        text-align: right;\n",
       "    }\n",
       "</style>\n",
       "<table border=\"1\" class=\"dataframe\">\n",
       "  <thead>\n",
       "    <tr style=\"text-align: right;\">\n",
       "      <th></th>\n",
       "      <th>LOO</th>\n",
       "      <th>LOO_se</th>\n",
       "      <th>p_LOO</th>\n",
       "      <th>shape_warn</th>\n",
       "    </tr>\n",
       "  </thead>\n",
       "  <tbody>\n",
       "    <tr>\n",
       "      <th>GP-RBF/Clustering</th>\n",
       "      <td>93550.474611</td>\n",
       "      <td>477.185323</td>\n",
       "      <td>504.583309</td>\n",
       "      <td>1</td>\n",
       "    </tr>\n",
       "    <tr>\n",
       "      <th>GP-RBF/Kalman</th>\n",
       "      <td>100946.782357</td>\n",
       "      <td>468.233124</td>\n",
       "      <td>471.959822</td>\n",
       "      <td>1</td>\n",
       "    </tr>\n",
       "    <tr>\n",
       "      <th>Linear/Clustering</th>\n",
       "      <td>100949.175983</td>\n",
       "      <td>468.220908</td>\n",
       "      <td>472.582036</td>\n",
       "      <td>1</td>\n",
       "    </tr>\n",
       "    <tr>\n",
       "      <th>GP-RBF</th>\n",
       "      <td>101133.200966</td>\n",
       "      <td>470.569418</td>\n",
       "      <td>481.165562</td>\n",
       "      <td>1</td>\n",
       "    </tr>\n",
       "    <tr>\n",
       "      <th>Clustering</th>\n",
       "      <td>103176.607294</td>\n",
       "      <td>467.884898</td>\n",
       "      <td>282.810095</td>\n",
       "      <td>1</td>\n",
       "    </tr>\n",
       "    <tr>\n",
       "      <th>Kalman</th>\n",
       "      <td>103177.894853</td>\n",
       "      <td>467.922901</td>\n",
       "      <td>283.160061</td>\n",
       "      <td>1</td>\n",
       "    </tr>\n",
       "    <tr>\n",
       "      <th>Bayesian-GP</th>\n",
       "      <td>109823.165807</td>\n",
       "      <td>457.807441</td>\n",
       "      <td>451.854555</td>\n",
       "      <td>1</td>\n",
       "    </tr>\n",
       "    <tr>\n",
       "      <th>Lin-Reg</th>\n",
       "      <td>115895.964440</td>\n",
       "      <td>444.243539</td>\n",
       "      <td>397.193240</td>\n",
       "      <td>1</td>\n",
       "    </tr>\n",
       "    <tr>\n",
       "      <th>Scrambled</th>\n",
       "      <td>120707.485074</td>\n",
       "      <td>429.801318</td>\n",
       "      <td>133.308267</td>\n",
       "      <td>1</td>\n",
       "    </tr>\n",
       "  </tbody>\n",
       "</table>\n",
       "</div>"
      ],
      "text/plain": [
       "                             LOO      LOO_se       p_LOO  shape_warn\n",
       "GP-RBF/Clustering   93550.474611  477.185323  504.583309           1\n",
       "GP-RBF/Kalman      100946.782357  468.233124  471.959822           1\n",
       "Linear/Clustering  100949.175983  468.220908  472.582036           1\n",
       "GP-RBF             101133.200966  470.569418  481.165562           1\n",
       "Clustering         103176.607294  467.884898  282.810095           1\n",
       "Kalman             103177.894853  467.922901  283.160061           1\n",
       "Bayesian-GP        109823.165807  457.807441  451.854555           1\n",
       "Lin-Reg            115895.964440  444.243539  397.193240           1\n",
       "Scrambled          120707.485074  429.801318  133.308267           1"
      ]
     },
     "execution_count": 11,
     "metadata": {},
     "output_type": "execute_result"
    }
   ],
   "source": [
    "loo = pd.read_pickle('Data/model_fits/model_fits_exp_shifted.pkl').sort_values('LOO')\n",
    "summary = pd.read_pickle('Data/model_fits/model_params_exp_shifted_rbf_cls.pkl')\n",
    "loo"
   ]
  },
  {
   "cell_type": "code",
   "execution_count": 12,
   "metadata": {},
   "outputs": [
    {
     "data": {
      "image/png": "[encoded data removed]",
      "text/plain": [
       "<Figure size 324x144 with 2 Axes>"
      ]
     },
     "metadata": {},
     "output_type": "display_data"
    }
   ],
   "source": [
    "# calculate chance\n",
    "n = len(pd.read_csv('Data/exp_shifted/gprbfshifted.csv')) # n_subj * n_trails_per_subj\n",
    "n_arms = 8\n",
    "chance_loo = -2 * n * np.log(1. / n_arms)\n",
    "\n",
    "_ = plot_results(loo, summary, chance_loo)"
   ]
  },
  {
   "cell_type": "markdown",
   "metadata": {},
   "source": [
    "# Experiment SRS"
   ]
  },
  {
   "cell_type": "code",
   "execution_count": 13,
   "metadata": {},
   "outputs": [
    {
     "data": {
      "text/html": [
       "<div>\n",
       "<style scoped>\n",
       "    .dataframe tbody tr th:only-of-type {\n",
       "        vertical-align: middle;\n",
       "    }\n",
       "\n",
       "    .dataframe tbody tr th {\n",
       "        vertical-align: top;\n",
       "    }\n",
       "\n",
       "    .dataframe thead th {\n",
       "        text-align: right;\n",
       "    }\n",
       "</style>\n",
       "<table border=\"1\" class=\"dataframe\">\n",
       "  <thead>\n",
       "    <tr style=\"text-align: right;\">\n",
       "      <th></th>\n",
       "      <th>LOO</th>\n",
       "      <th>LOO_se</th>\n",
       "      <th>p_LOO</th>\n",
       "      <th>shape_warn</th>\n",
       "    </tr>\n",
       "  </thead>\n",
       "  <tbody>\n",
       "    <tr>\n",
       "      <th>GP-RBF/Clustering</th>\n",
       "      <td>63591.068344</td>\n",
       "      <td>443.057297</td>\n",
       "      <td>435.022449</td>\n",
       "      <td>1</td>\n",
       "    </tr>\n",
       "    <tr>\n",
       "      <th>GP-RBF/Kalman</th>\n",
       "      <td>65930.905966</td>\n",
       "      <td>443.375515</td>\n",
       "      <td>358.349433</td>\n",
       "      <td>1</td>\n",
       "    </tr>\n",
       "    <tr>\n",
       "      <th>Linear/Clustering</th>\n",
       "      <td>65932.360612</td>\n",
       "      <td>443.335323</td>\n",
       "      <td>358.459648</td>\n",
       "      <td>1</td>\n",
       "    </tr>\n",
       "    <tr>\n",
       "      <th>Kalman</th>\n",
       "      <td>66260.191911</td>\n",
       "      <td>444.532243</td>\n",
       "      <td>258.276111</td>\n",
       "      <td>1</td>\n",
       "    </tr>\n",
       "    <tr>\n",
       "      <th>Clustering</th>\n",
       "      <td>66262.397727</td>\n",
       "      <td>444.585014</td>\n",
       "      <td>259.249507</td>\n",
       "      <td>1</td>\n",
       "    </tr>\n",
       "    <tr>\n",
       "      <th>GP-RBF</th>\n",
       "      <td>68145.964115</td>\n",
       "      <td>449.706803</td>\n",
       "      <td>371.165819</td>\n",
       "      <td>1</td>\n",
       "    </tr>\n",
       "    <tr>\n",
       "      <th>Bayesian-GP</th>\n",
       "      <td>69447.723773</td>\n",
       "      <td>450.577691</td>\n",
       "      <td>310.722561</td>\n",
       "      <td>1</td>\n",
       "    </tr>\n",
       "    <tr>\n",
       "      <th>Lin-Reg</th>\n",
       "      <td>86065.490931</td>\n",
       "      <td>451.208158</td>\n",
       "      <td>319.419699</td>\n",
       "      <td>1</td>\n",
       "    </tr>\n",
       "    <tr>\n",
       "      <th>Scrambled</th>\n",
       "      <td>88242.298341</td>\n",
       "      <td>452.617119</td>\n",
       "      <td>128.821336</td>\n",
       "      <td>1</td>\n",
       "    </tr>\n",
       "  </tbody>\n",
       "</table>\n",
       "</div>"
      ],
      "text/plain": [
       "                            LOO      LOO_se       p_LOO  shape_warn\n",
       "GP-RBF/Clustering  63591.068344  443.057297  435.022449           1\n",
       "GP-RBF/Kalman      65930.905966  443.375515  358.349433           1\n",
       "Linear/Clustering  65932.360612  443.335323  358.459648           1\n",
       "Kalman             66260.191911  444.532243  258.276111           1\n",
       "Clustering         66262.397727  444.585014  259.249507           1\n",
       "GP-RBF             68145.964115  449.706803  371.165819           1\n",
       "Bayesian-GP        69447.723773  450.577691  310.722561           1\n",
       "Lin-Reg            86065.490931  451.208158  319.419699           1\n",
       "Scrambled          88242.298341  452.617119  128.821336           1"
      ]
     },
     "execution_count": 13,
     "metadata": {},
     "output_type": "execute_result"
    }
   ],
   "source": [
    "loo = pd.read_pickle('Data/model_fits/model_fits_exp_srs.pkl').sort_values('LOO')\n",
    "summary = pd.read_pickle('Data/model_fits/model_params_exp_srs_rbf_cls.pkl')\n",
    "loo"
   ]
  },
  {
   "cell_type": "code",
   "execution_count": 14,
   "metadata": {},
   "outputs": [
    {
     "data": {
      "image/png": "[encoded data removed]",
      "text/plain": [
       "<Figure size 324x144 with 2 Axes>"
      ]
     },
     "metadata": {},
     "output_type": "display_data"
    }
   ],
   "source": [
    "# calculate chance\n",
    "n = len(pd.read_csv('Data/exp_shifted/gprbfshifted.csv')) # n_subj * n_trails_per_subj\n",
    "n_arms = 8\n",
    "chance_loo = -2 * n * np.log(1. / n_arms)\n",
    "\n",
    "_ = plot_results(loo, summary, chance_loo)"
   ]
  },
  {
   "cell_type": "code",
   "execution_count": null,
   "metadata": {},
   "outputs": [],
   "source": []
  },
  {
   "cell_type": "code",
   "execution_count": null,
   "metadata": {},
   "outputs": [],
   "source": []
  }
 ],
 "metadata": {
  "kernelspec": {
   "display_name": "Python 2",
   "language": "python",
   "name": "python2"
  },
  "language_info": {
   "codemirror_mode": {
    "name": "ipython",
    "version": 2
   },
   "file_extension": ".py",
   "mimetype": "text/x-python",
   "name": "python",
   "nbconvert_exporter": "python",
   "pygments_lexer": "ipython2",
   "version": "2.7.15"
  }
 },
 "nbformat": 4,
 "nbformat_minor": 2
}
